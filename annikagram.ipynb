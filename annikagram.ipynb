{
 "cells": [
  {
   "cell_type": "code",
   "execution_count": 2,
   "metadata": {},
   "outputs": [
    {
     "data": {
      "application/vnd.jupyter.widget-view+json": {
       "model_id": "135fbb81058d46619de039d41e836373",
       "version_major": 2,
       "version_minor": 0
      },
      "text/plain": [
       "Text(value='')"
      ]
     },
     "metadata": {},
     "output_type": "display_data"
    },
    {
     "name": "stdout",
     "output_type": "stream",
     "text": [
      "[i,h,c] [b,i,n] [e,h,i,r] \n"
     ]
    }
   ],
   "source": [
    "import random\n",
    "from IPython.display import display\n",
    "from ipywidgets import widgets\n",
    "\n",
    "textField = widgets.Text()\n",
    "display(textField)\n",
    "    \n",
    "def handle_submit(sender):\n",
    "    sentence = textField.value\n",
    "    textField.value = \"\"\n",
    "    result = \"\"\n",
    "    words = sentence.split()\n",
    "    for word in words:\n",
    "        letters = list(word)\n",
    "\n",
    "        random.shuffle(letters)\n",
    "        \n",
    "        result += \"[\"+\",\".join(letters) + \"] \"\n",
    "        \n",
    "    print(result)\n",
    "    \n",
    "textField.on_submit(handle_submit)"
   ]
  },
  {
   "cell_type": "code",
   "execution_count": null,
   "metadata": {},
   "outputs": [],
   "source": []
  }
 ],
 "metadata": {
  "kernelspec": {
   "display_name": "Python 3",
   "language": "python",
   "name": "python3"
  },
  "language_info": {
   "codemirror_mode": {
    "name": "ipython",
    "version": 3
   },
   "file_extension": ".py",
   "mimetype": "text/x-python",
   "name": "python",
   "nbconvert_exporter": "python",
   "pygments_lexer": "ipython3",
   "version": "3.7.0"
  }
 },
 "nbformat": 4,
 "nbformat_minor": 2
}
